{
  "nbformat": 4,
  "nbformat_minor": 0,
  "metadata": {
    "colab": {
      "provenance": [],
      "authorship_tag": "ABX9TyNpBGnRzIq5509AUd51BsA8",
      "include_colab_link": true
    },
    "kernelspec": {
      "name": "python3",
      "display_name": "Python 3"
    },
    "language_info": {
      "name": "python"
    }
  },
  "cells": [
    {
      "cell_type": "markdown",
      "metadata": {
        "id": "view-in-github",
        "colab_type": "text"
      },
      "source": [
        "<a href=\"https://colab.research.google.com/github/4zeroo/2024_boostcourse/blob/main/2024%EB%B6%80%EC%BD%94_01%ED%8C%8C%EC%9D%B4%EC%8D%AC_%EA%B8%B0%EC%B4%88_%EC%86%8D%EC%84%B1.ipynb\" target=\"_parent\"><img src=\"https://colab.research.google.com/assets/colab-badge.svg\" alt=\"Open In Colab\"/></a>"
      ]
    },
    {
      "cell_type": "markdown",
      "source": [
        "# 파이썬 기초 속성\n"
      ],
      "metadata": {
        "id": "Gag5r1Nz96s1"
      }
    },
    {
      "cell_type": "markdown",
      "source": [
        "**boolean**\n",
        "  - 명시적인 것이 암시적인 것보다 낫다라는 철학\n",
        "\n",
        "  - True나 False는 0과 1로도 표현 가능."
      ],
      "metadata": {
        "id": "ruoXta2x7jQu"
      }
    },
    {
      "cell_type": "code",
      "source": [
        "#  True는 1과 같음\n",
        "False == 0"
      ],
      "metadata": {
        "colab": {
          "base_uri": "https://localhost:8080/"
        },
        "id": "qF7i2ZDp8eLy",
        "outputId": "d6eed969-c87c-4bf9-b429-adf17561121a"
      },
      "execution_count": null,
      "outputs": [
        {
          "output_type": "execute_result",
          "data": {
            "text/plain": [
              "True"
            ]
          },
          "metadata": {},
          "execution_count": 7
        }
      ]
    },
    {
      "cell_type": "code",
      "source": [
        "# True와 문자 1은 다름\n",
        "True == \"1\""
      ],
      "metadata": {
        "colab": {
          "base_uri": "https://localhost:8080/"
        },
        "id": "Tcc7EPE58nUj",
        "outputId": "1bedb6ad-3afa-47a6-ceff-7520ee192490"
      },
      "execution_count": null,
      "outputs": [
        {
          "output_type": "execute_result",
          "data": {
            "text/plain": [
              "False"
            ]
          },
          "metadata": {},
          "execution_count": 8
        }
      ]
    },
    {
      "cell_type": "code",
      "source": [
        "# False==0 이지만 문자 0과는 다름\n",
        "False == \"0\""
      ],
      "metadata": {
        "colab": {
          "base_uri": "https://localhost:8080/"
        },
        "id": "ZUp1CBj582v3",
        "outputId": "93078004-01bc-493e-80ee-9bbfafe4583f"
      },
      "execution_count": null,
      "outputs": [
        {
          "output_type": "execute_result",
          "data": {
            "text/plain": [
              "False"
            ]
          },
          "metadata": {},
          "execution_count": 12
        }
      ]
    },
    {
      "cell_type": "code",
      "source": [
        "False != \"0\""
      ],
      "metadata": {
        "colab": {
          "base_uri": "https://localhost:8080/"
        },
        "id": "ZKHrbKq29QrL",
        "outputId": "a62342fc-984a-4485-f094-c0edd79afb5d"
      },
      "execution_count": null,
      "outputs": [
        {
          "output_type": "execute_result",
          "data": {
            "text/plain": [
              "True"
            ]
          },
          "metadata": {},
          "execution_count": 13
        }
      ]
    },
    {
      "cell_type": "code",
      "source": [
        "#  and 연산 - 하나라도 False면 False\n",
        "True and True"
      ],
      "metadata": {
        "colab": {
          "base_uri": "https://localhost:8080/"
        },
        "id": "XkhQ-ozd9ZT4",
        "outputId": "dcca53af-0801-4d5a-ded2-57cd1f216475"
      },
      "execution_count": null,
      "outputs": [
        {
          "output_type": "execute_result",
          "data": {
            "text/plain": [
              "True"
            ]
          },
          "metadata": {},
          "execution_count": 14
        }
      ]
    },
    {
      "cell_type": "code",
      "source": [
        "True and False"
      ],
      "metadata": {
        "colab": {
          "base_uri": "https://localhost:8080/"
        },
        "id": "DL0nz0AW9w7t",
        "outputId": "59c49bfd-694b-4d5f-e083-f9f83e3b944d"
      },
      "execution_count": null,
      "outputs": [
        {
          "output_type": "execute_result",
          "data": {
            "text/plain": [
              "False"
            ]
          },
          "metadata": {},
          "execution_count": 15
        }
      ]
    },
    {
      "cell_type": "code",
      "source": [
        "# or 연산- 하나라도 True면 True\n",
        "True or False"
      ],
      "metadata": {
        "colab": {
          "base_uri": "https://localhost:8080/"
        },
        "id": "4z_-Lg6T8CMr",
        "outputId": "e79aa33a-9175-4f89-faf7-4884ce85eccf"
      },
      "execution_count": null,
      "outputs": [
        {
          "output_type": "execute_result",
          "data": {
            "text/plain": [
              "True"
            ]
          },
          "metadata": {},
          "execution_count": 3
        }
      ]
    },
    {
      "cell_type": "markdown",
      "source": [
        "**string**"
      ],
      "metadata": {
        "id": "kHrKqGPi_FRk"
      }
    },
    {
      "cell_type": "code",
      "source": [
        "til = \"Today I Learned\" # 변수에 문자열 담기\n",
        "til"
      ],
      "metadata": {
        "colab": {
          "base_uri": "https://localhost:8080/",
          "height": 35
        },
        "id": "cAFNKk1Y_K-U",
        "outputId": "2981dfb6-24dd-424c-8c50-23ee0904dd4a"
      },
      "execution_count": null,
      "outputs": [
        {
          "output_type": "execute_result",
          "data": {
            "text/plain": [
              "'Today I Learned'"
            ],
            "application/vnd.google.colaboratory.intrinsic+json": {
              "type": "string"
            }
          },
          "metadata": {},
          "execution_count": 16
        }
      ]
    },
    {
      "cell_type": "code",
      "source": [
        "til.lower() #소문자 변환"
      ],
      "metadata": {
        "colab": {
          "base_uri": "https://localhost:8080/",
          "height": 35
        },
        "id": "Qq5Go8A__RN6",
        "outputId": "01f5b863-f20b-4959-f9ab-8d441c9f9370"
      },
      "execution_count": null,
      "outputs": [
        {
          "output_type": "execute_result",
          "data": {
            "text/plain": [
              "'today i learned'"
            ],
            "application/vnd.google.colaboratory.intrinsic+json": {
              "type": "string"
            }
          },
          "metadata": {},
          "execution_count": 17
        }
      ]
    },
    {
      "cell_type": "code",
      "source": [
        "til.upper() #대문자 변환"
      ],
      "metadata": {
        "colab": {
          "base_uri": "https://localhost:8080/",
          "height": 35
        },
        "id": "RG3E2xl6_VgH",
        "outputId": "ee52dc8a-cfa4-43b5-dd6c-b5a5352cfba0"
      },
      "execution_count": null,
      "outputs": [
        {
          "output_type": "execute_result",
          "data": {
            "text/plain": [
              "'TODAY I LEARNED'"
            ],
            "application/vnd.google.colaboratory.intrinsic+json": {
              "type": "string"
            }
          },
          "metadata": {},
          "execution_count": 18
        }
      ]
    },
    {
      "cell_type": "markdown",
      "source": [
        "**lists**"
      ],
      "metadata": {
        "id": "fSCm6ieX_z2x"
      }
    },
    {
      "cell_type": "code",
      "source": [
        "lang = [] #비어있는 리스트 생성\n",
        "lang"
      ],
      "metadata": {
        "colab": {
          "base_uri": "https://localhost:8080/"
        },
        "id": "6lNVeOFJ_2kU",
        "outputId": "79acaf7c-c688-4339-e2f2-ad9af6517be2"
      },
      "execution_count": null,
      "outputs": [
        {
          "output_type": "execute_result",
          "data": {
            "text/plain": [
              "[]"
            ]
          },
          "metadata": {},
          "execution_count": 19
        }
      ]
    },
    {
      "cell_type": "code",
      "source": [
        "#append : 리스트에 원소 추가\n",
        "lang.append(\"python\")\n",
        "lang.append(\"java\")\n",
        "lang.append(\"c\")\n",
        "lang"
      ],
      "metadata": {
        "colab": {
          "base_uri": "https://localhost:8080/"
        },
        "id": "xfGE3soNAGsV",
        "outputId": "08f7a36b-ce16-4fba-fd0e-ff6cc0b480c7"
      },
      "execution_count": null,
      "outputs": [
        {
          "output_type": "execute_result",
          "data": {
            "text/plain": [
              "['python', 'java', 'c']"
            ]
          },
          "metadata": {},
          "execution_count": 20
        }
      ]
    },
    {
      "cell_type": "code",
      "source": [
        "#인덱싱. 0부터시작, 맨 뒤는 -1\n",
        "lang[0]"
      ],
      "metadata": {
        "colab": {
          "base_uri": "https://localhost:8080/",
          "height": 35
        },
        "id": "knHVzYr6Aa7Y",
        "outputId": "1a5422e0-f648-4975-eb91-ccd0ed40ce52"
      },
      "execution_count": null,
      "outputs": [
        {
          "output_type": "execute_result",
          "data": {
            "text/plain": [
              "'python'"
            ],
            "application/vnd.google.colaboratory.intrinsic+json": {
              "type": "string"
            }
          },
          "metadata": {},
          "execution_count": 22
        }
      ]
    },
    {
      "cell_type": "code",
      "source": [
        "lang[-1]"
      ],
      "metadata": {
        "colab": {
          "base_uri": "https://localhost:8080/",
          "height": 35
        },
        "id": "unYatr7gAn0Q",
        "outputId": "4664c138-c976-4bb3-8f9b-45b9b840edb6"
      },
      "execution_count": null,
      "outputs": [
        {
          "output_type": "execute_result",
          "data": {
            "text/plain": [
              "'c'"
            ],
            "application/vnd.google.colaboratory.intrinsic+json": {
              "type": "string"
            }
          },
          "metadata": {},
          "execution_count": 23
        }
      ]
    },
    {
      "cell_type": "markdown",
      "source": [
        "**제어문(조건문,반복문)**"
      ],
      "metadata": {
        "id": "h1AiIM98DUfM"
      }
    },
    {
      "cell_type": "code",
      "source": [
        "for i in lang:\n",
        "    print(i)"
      ],
      "metadata": {
        "colab": {
          "base_uri": "https://localhost:8080/"
        },
        "id": "v16lWjyBDZW0",
        "outputId": "45ea405b-86a5-42e0-fa4e-82f178b2fee1"
      },
      "execution_count": null,
      "outputs": [
        {
          "output_type": "stream",
          "name": "stdout",
          "text": [
            "python\n",
            "java\n",
            "c\n"
          ]
        }
      ]
    },
    {
      "cell_type": "code",
      "source": [
        "# 위 코드에서 python일 때는 그대로 출력하고 나머지 텍스트는 \"기타\"라고 출력 되도록\n",
        "for i in lang:\n",
        "    if i == \"python\":\n",
        "        print(\"python\")\n",
        "    else:\n",
        "        print(\"기타\")"
      ],
      "metadata": {
        "colab": {
          "base_uri": "https://localhost:8080/"
        },
        "id": "gOdTU-wODmTc",
        "outputId": "b0e155fe-77f3-4843-8960-e7fa67a075d4"
      },
      "execution_count": null,
      "outputs": [
        {
          "output_type": "stream",
          "name": "stdout",
          "text": [
            "python\n",
            "기타\n",
            "기타\n"
          ]
        }
      ]
    },
    {
      "cell_type": "code",
      "source": [
        "#range: 범위의 개념. 시작과 끝 설정. 시작 미설정시 0부터 시작\n",
        "#rnage(시작,끝,증가폭)\n",
        "\n",
        "for i in range(5): #특정횟수만큼 반복\n",
        "    print(i)"
      ],
      "metadata": {
        "colab": {
          "base_uri": "https://localhost:8080/"
        },
        "id": "Pvx-LTUnDqQ9",
        "outputId": "513d9a68-fb73-4f2e-eb8d-b98018db6f50"
      },
      "execution_count": null,
      "outputs": [
        {
          "output_type": "stream",
          "name": "stdout",
          "text": [
            "0\n",
            "1\n",
            "2\n",
            "3\n",
            "4\n"
          ]
        }
      ]
    },
    {
      "cell_type": "code",
      "source": [
        "# 짝수일 때 python을 홀수일 때 java를 출력합니다.\n",
        "for i in range(1, 10):\n",
        "    if i % 2 == 0:\n",
        "        print(\"python\")\n",
        "    else:\n",
        "        print(\"java\")"
      ],
      "metadata": {
        "colab": {
          "base_uri": "https://localhost:8080/"
        },
        "id": "q6K_ur4GDvqT",
        "outputId": "b02bf06e-6fdc-4995-d567-816772020184"
      },
      "execution_count": null,
      "outputs": [
        {
          "output_type": "stream",
          "name": "stdout",
          "text": [
            "java\n",
            "python\n",
            "java\n",
            "python\n",
            "java\n",
            "python\n",
            "java\n",
            "python\n",
            "java\n"
          ]
        }
      ]
    },
    {
      "cell_type": "code",
      "source": [
        "# enumerate를 사용하면 인덱스 번호와 원소를 같이 가져올 수 있음.\n",
        "for i, val in enumerate(lang):\n",
        "    print(i, val)"
      ],
      "metadata": {
        "colab": {
          "base_uri": "https://localhost:8080/"
        },
        "id": "rG6HaM7SEP0i",
        "outputId": "eb4c1429-d453-4178-88e3-bfc0189135d5"
      },
      "execution_count": null,
      "outputs": [
        {
          "output_type": "stream",
          "name": "stdout",
          "text": [
            "0 python\n",
            "1 java\n",
            "2 c\n"
          ]
        }
      ]
    },
    {
      "cell_type": "markdown",
      "source": [
        "**문자열**"
      ],
      "metadata": {
        "id": "iSkVLXwTTQL_"
      }
    },
    {
      "cell_type": "code",
      "source": [
        "# 주소를 address 변수에 담기\n",
        "address = \" 경기도 성남시 분당구 불정로 6 NAVER 그린팩토리 16층 \"\n",
        "address"
      ],
      "metadata": {
        "colab": {
          "base_uri": "https://localhost:8080/",
          "height": 35
        },
        "id": "bQ7VxPI0TP-b",
        "outputId": "a233c7a2-25ba-4967-8043-ea67c31685b4"
      },
      "execution_count": null,
      "outputs": [
        {
          "output_type": "execute_result",
          "data": {
            "text/plain": [
              "' 경기도 성남시 분당구 불정로 6 NAVER 그린팩토리 16층 '"
            ],
            "application/vnd.google.colaboratory.intrinsic+json": {
              "type": "string"
            }
          },
          "metadata": {},
          "execution_count": 32
        }
      ]
    },
    {
      "cell_type": "code",
      "source": [
        "# strip-앞뒤 공백을 제거\n",
        "# 데이터 전처리 시 주로 사용\n",
        "address = address.strip()\n",
        "address"
      ],
      "metadata": {
        "colab": {
          "base_uri": "https://localhost:8080/",
          "height": 35
        },
        "id": "MWx7FrXsTP0o",
        "outputId": "9b7dc9f8-02c4-4218-de6e-972bbabeafd4"
      },
      "execution_count": null,
      "outputs": [
        {
          "output_type": "execute_result",
          "data": {
            "text/plain": [
              "'경기도 성남시 분당구 불정로 6 NAVER 그린팩토리 16층'"
            ],
            "application/vnd.google.colaboratory.intrinsic+json": {
              "type": "string"
            }
          },
          "metadata": {},
          "execution_count": 33
        }
      ]
    },
    {
      "cell_type": "code",
      "source": [
        "# len-문자열의 길이\n",
        "len(address)"
      ],
      "metadata": {
        "colab": {
          "base_uri": "https://localhost:8080/"
        },
        "id": "FNY8gXFlTmP_",
        "outputId": "5317d032-aca4-4d54-f95f-ccaf2fa2d31c"
      },
      "execution_count": null,
      "outputs": [
        {
          "output_type": "execute_result",
          "data": {
            "text/plain": [
              "33"
            ]
          },
          "metadata": {},
          "execution_count": 35
        }
      ]
    },
    {
      "cell_type": "code",
      "source": [
        "# 공백을 기준으로 문자열 분리\n",
        "address_list = address.split()\n",
        "address_list"
      ],
      "metadata": {
        "colab": {
          "base_uri": "https://localhost:8080/"
        },
        "id": "TS9ZqgznTo_1",
        "outputId": "fc2b1cd9-8b7e-4f3b-c9d7-b97c2218a7f6"
      },
      "execution_count": null,
      "outputs": [
        {
          "output_type": "execute_result",
          "data": {
            "text/plain": [
              "['경기도', '성남시', '분당구', '불정로', '6', 'NAVER', '그린팩토리', '16층']"
            ]
          },
          "metadata": {},
          "execution_count": 36
        }
      ]
    },
    {
      "cell_type": "code",
      "source": [
        "# 리스트 길이\n",
        "len(address_list)"
      ],
      "metadata": {
        "colab": {
          "base_uri": "https://localhost:8080/"
        },
        "id": "pVSCh8aYTyVS",
        "outputId": "7c7bbeaa-f0b8-474c-ceea-976d721e5e67"
      },
      "execution_count": null,
      "outputs": [
        {
          "output_type": "execute_result",
          "data": {
            "text/plain": [
              "8"
            ]
          },
          "metadata": {},
          "execution_count": 38
        }
      ]
    },
    {
      "cell_type": "code",
      "source": [
        "#슬라이싱, startswith, in을 통해 문자열에 경기가 있는지 확인하기\n",
        "# 슬라이싱으로 문자 가져오기\n",
        "address[:2]"
      ],
      "metadata": {
        "colab": {
          "base_uri": "https://localhost:8080/",
          "height": 35
        },
        "id": "FsWAkiRkT5XV",
        "outputId": "e04ecb98-a950-4de6-8937-a0e3e8736ed0"
      },
      "execution_count": null,
      "outputs": [
        {
          "output_type": "execute_result",
          "data": {
            "text/plain": [
              "'경기'"
            ],
            "application/vnd.google.colaboratory.intrinsic+json": {
              "type": "string"
            }
          },
          "metadata": {},
          "execution_count": 41
        }
      ]
    },
    {
      "cell_type": "code",
      "source": [
        "# startswith- 특정 문자가 포함되는지 여부를 확인\n",
        "address.startswith(\"경기\")"
      ],
      "metadata": {
        "colab": {
          "base_uri": "https://localhost:8080/"
        },
        "id": "T4D6BfiPUFFD",
        "outputId": "ca275e15-ae67-4e34-ea2a-287f21db8216"
      },
      "execution_count": null,
      "outputs": [
        {
          "output_type": "execute_result",
          "data": {
            "text/plain": [
              "True"
            ]
          },
          "metadata": {},
          "execution_count": 43
        }
      ]
    },
    {
      "cell_type": "code",
      "source": [
        "# in- 특정 문자열을 포함하고 있는지 여부를 확인\n",
        "\"경기\" in address"
      ],
      "metadata": {
        "colab": {
          "base_uri": "https://localhost:8080/"
        },
        "id": "--Gr71wvUJxz",
        "outputId": "880aca76-59cf-4137-fbf8-95c20077f67c"
      },
      "execution_count": null,
      "outputs": [
        {
          "output_type": "execute_result",
          "data": {
            "text/plain": [
              "True"
            ]
          },
          "metadata": {},
          "execution_count": 44
        }
      ]
    },
    {
      "cell_type": "markdown",
      "source": [
        "**리스트**"
      ],
      "metadata": {
        "id": "HAzFUDHEUXS3"
      }
    },
    {
      "cell_type": "code",
      "source": [
        "# 인덱싱으로 리스트의 원소 가져오기\n",
        "gu = address_list[2]\n",
        "gu"
      ],
      "metadata": {
        "colab": {
          "base_uri": "https://localhost:8080/",
          "height": 35
        },
        "id": "sVFKt6GvUY9v",
        "outputId": "9974d25d-9d73-4da0-9e18-f00bd9163431"
      },
      "execution_count": null,
      "outputs": [
        {
          "output_type": "execute_result",
          "data": {
            "text/plain": [
              "'분당구'"
            ],
            "application/vnd.google.colaboratory.intrinsic+json": {
              "type": "string"
            }
          },
          "metadata": {},
          "execution_count": 45
        }
      ]
    },
    {
      "cell_type": "code",
      "source": [
        "street = address_list[3]\n",
        "street"
      ],
      "metadata": {
        "colab": {
          "base_uri": "https://localhost:8080/",
          "height": 35
        },
        "id": "PKjCUCZzUefe",
        "outputId": "2faaa601-9337-4e0a-faf6-7d9584549ff2"
      },
      "execution_count": null,
      "outputs": [
        {
          "output_type": "execute_result",
          "data": {
            "text/plain": [
              "'불정로'"
            ],
            "application/vnd.google.colaboratory.intrinsic+json": {
              "type": "string"
            }
          },
          "metadata": {},
          "execution_count": 46
        }
      ]
    },
    {
      "cell_type": "code",
      "source": [
        "address_list[-1]"
      ],
      "metadata": {
        "colab": {
          "base_uri": "https://localhost:8080/",
          "height": 35
        },
        "id": "iDSimBAwUfpx",
        "outputId": "6e40595c-fb50-463f-9b1b-e977709f6ab4"
      },
      "execution_count": null,
      "outputs": [
        {
          "output_type": "execute_result",
          "data": {
            "text/plain": [
              "'16층'"
            ],
            "application/vnd.google.colaboratory.intrinsic+json": {
              "type": "string"
            }
          },
          "metadata": {},
          "execution_count": 47
        }
      ]
    },
    {
      "cell_type": "code",
      "source": [
        "# \"  \".join(리스트) - 리스트로 분리된 문자열을 다시 연결\n",
        "\" \".join(address_list)"
      ],
      "metadata": {
        "colab": {
          "base_uri": "https://localhost:8080/",
          "height": 35
        },
        "id": "yO2HwwQ9Uh_-",
        "outputId": "62b29cf8-025a-4002-9f2a-2aa24a5fb47c"
      },
      "execution_count": null,
      "outputs": [
        {
          "output_type": "execute_result",
          "data": {
            "text/plain": [
              "'경기도 성남시 분당구 불정로 6 NAVER 그린팩토리 16층'"
            ],
            "application/vnd.google.colaboratory.intrinsic+json": {
              "type": "string"
            }
          },
          "metadata": {},
          "execution_count": 49
        }
      ]
    },
    {
      "cell_type": "code",
      "source": [
        "# \"경기\"가 리스트에 포함되는지 확인\n",
        "\"경기\" in address_list"
      ],
      "metadata": {
        "colab": {
          "base_uri": "https://localhost:8080/"
        },
        "id": "WHuY_OUaUymN",
        "outputId": "51155866-f5ca-4231-a6a2-ded8ba2abb05"
      },
      "execution_count": null,
      "outputs": [
        {
          "output_type": "execute_result",
          "data": {
            "text/plain": [
              "False"
            ]
          },
          "metadata": {},
          "execution_count": 50
        }
      ]
    },
    {
      "cell_type": "code",
      "source": [
        "\"경기도\" in address_list\n",
        "#완전하게 적어야함"
      ],
      "metadata": {
        "colab": {
          "base_uri": "https://localhost:8080/"
        },
        "id": "T19J18r-U3hD",
        "outputId": "0f113f0f-1f1a-4091-8254-e042bcd1c6c7"
      },
      "execution_count": null,
      "outputs": [
        {
          "output_type": "execute_result",
          "data": {
            "text/plain": [
              "True"
            ]
          },
          "metadata": {},
          "execution_count": 51
        }
      ]
    }
  ]
}